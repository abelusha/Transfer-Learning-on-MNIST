{
 "cells": [
  {
   "cell_type": "markdown",
   "metadata": {},
   "source": [
    "# **Implementation of Transfer Learning on MNIST hand written digits dataset**\n",
    "\n",
    "** Date: 2017-09-25 13:00**\n",
    "- This is a Notebook which implements Transfer Learning in classification of the hand written digit images.\n",
    "- It uses the classic MNIST data set, where there a total of 70K images.\n",
    "- 60K images are used for training and the the rest 10K are for testing.\n",
    "- This simple model fist trains on the digit 0-4 and then using transfer learning it is tested on the digits 5-9, which the model never saw during training.\n",
    "- The transfer technique implemented here is \"Using saved Weights\", these are the optimized weights from the training calculation, thus in classification of\n",
    "  the digits 5-9 the model starts from these set optimized weights rather than random ones!"
   ]
  },
  {
   "cell_type": "code",
   "execution_count": 21,
   "metadata": {
    "collapsed": true
   },
   "outputs": [],
   "source": [
    "from __future__ import print_function\n",
    "import numpy as np\n",
    "import datetime"
   ]
  },
  {
   "cell_type": "code",
   "execution_count": 22,
   "metadata": {
    "collapsed": true
   },
   "outputs": [],
   "source": [
    "np.random.seed(1337)  # for reproducibility"
   ]
  },
  {
   "cell_type": "code",
   "execution_count": 23,
   "metadata": {},
   "outputs": [],
   "source": [
    "from keras.datasets import mnist\n",
    "from keras.models import Sequential\n",
    "from keras.layers import Dense, Dropout, Activation, Flatten\n",
    "from keras.layers import Convolution2D, MaxPooling2D\n",
    "from keras.utils import np_utils\n",
    "from keras import backend as K\n",
    "import tensorflow as tf  ## this is a quick fix added to to the code\n",
    "#ADDED\n",
    "import matplotlib.pyplot as plt"
   ]
  },
  {
   "cell_type": "code",
   "execution_count": 24,
   "metadata": {
    "collapsed": true
   },
   "outputs": [],
   "source": [
    "now = datetime.datetime.now"
   ]
  },
  {
   "cell_type": "code",
   "execution_count": 25,
   "metadata": {},
   "outputs": [
    {
     "name": "stdout",
     "output_type": "stream",
     "text": [
      "2017-09-25 13:00:53.351416\n"
     ]
    }
   ],
   "source": [
    "print(now())"
   ]
  },
  {
   "cell_type": "code",
   "execution_count": 26,
   "metadata": {
    "collapsed": true
   },
   "outputs": [],
   "source": [
    "batch_size = 32  # can be changed \n",
    "nb_classes = 5  # 5,6,7,8,9\n",
    "nb_epoch = 50  # # how many times to run through the full set of examples\n",
    "\n",
    "# input image dimensions\n",
    "img_rows, img_cols = 28, 28  # pixles\n",
    "\n",
    "# number of convolutional filters to use\n",
    "nb_filters = 32  # capacity to learn 32 features\n",
    "# size of pooling area for max pooling\n",
    "pool_size = 2.\n",
    "# convolution kernel size\n",
    "kernel_size = 3 # kernel = "
   ]
  },
  {
   "cell_type": "code",
   "execution_count": 27,
   "metadata": {},
   "outputs": [
    {
     "name": "stdout",
     "output_type": "stream",
     "text": [
      "tf\n"
     ]
    }
   ],
   "source": [
    "print(K.image_dim_ordering())"
   ]
  },
  {
   "cell_type": "code",
   "execution_count": 28,
   "metadata": {
    "collapsed": true
   },
   "outputs": [],
   "source": [
    "if K.image_dim_ordering() == 'th':\n",
    "    input_shape = (1, img_rows, img_cols)\n",
    "else:\n",
    "    input_shape = (img_rows, img_cols, 1)"
   ]
  },
  {
   "cell_type": "code",
   "execution_count": 29,
   "metadata": {
    "collapsed": true
   },
   "outputs": [],
   "source": [
    "def train_model(model, train, test, nb_classes, nb_epoch=nb_epoch):\n",
    "    global hist\n",
    "    X_train = train[0].reshape((train[0].shape[0],) + input_shape)\n",
    "    X_test = test[0].reshape((test[0].shape[0],) + input_shape)\n",
    "    X_train = X_train.astype('float32')\n",
    "    X_test = X_test.astype('float32')\n",
    "    X_train /= 255 #  X_train =  X_train / 255\n",
    "    X_test /= 255\n",
    "    print('X_train shape:', X_train.shape)\n",
    "    print(X_train.shape[0], 'train samples')\n",
    "    print(X_test.shape[0], 'test samples')\n",
    "\n",
    "    # convert class vectors to binary class matrices\n",
    "    Y_train = np_utils.to_categorical(train[1], nb_classes)#exa 7 = [0,0,1,0,0]\n",
    "    Y_test = np_utils.to_categorical(test[1], nb_classes)\n",
    "\n",
    "    model.compile(loss='categorical_crossentropy',\n",
    "                  optimizer='adadelta',\n",
    "                  metrics=['accuracy'])\n",
    "                  \n",
    "    t = now()\n",
    "    hist = model.fit(X_train, Y_train,\n",
    "              batch_size=batch_size, nb_epoch=nb_epoch,verbose=1, validation_data=(X_test, Y_test))\n",
    "    print('Training time: %s' % (now() - t))\n",
    "    score = model.evaluate(X_test, Y_test, verbose=0)\n",
    "    #s0, s1 = score[0],score[1] \n",
    "    print('Test score:', score[0])\n",
    "    print('Test accuracy:', score[1])"
   ]
  },
  {
   "cell_type": "code",
   "execution_count": 30,
   "metadata": {},
   "outputs": [],
   "source": [
    "(X_train, y_train), (X_test, y_test) = mnist.load_data()"
   ]
  },
  {
   "cell_type": "code",
   "execution_count": 31,
   "metadata": {},
   "outputs": [
    {
     "data": {
      "text/plain": [
       "((10000, 28, 28), (60000, 28, 28))"
      ]
     },
     "execution_count": 31,
     "metadata": {},
     "output_type": "execute_result"
    }
   ],
   "source": [
    "X_test.shape, X_train.shape"
   ]
  },
  {
   "cell_type": "markdown",
   "metadata": {},
   "source": [
    "<h1> create two datasets one with digits below 5 and one with 5 and above"
   ]
  },
  {
   "cell_type": "code",
   "execution_count": 32,
   "metadata": {
    "collapsed": true
   },
   "outputs": [],
   "source": [
    "X_train_lt5  = X_train[y_train < 5]\n",
    "y_train_lt5  = y_train[y_train < 5]\n",
    "X_test_lt5   = X_test[y_test < 5]\n",
    "y_test_lt5   = y_test[y_test < 5]\n",
    "\n",
    "X_train_gte5 = X_train[y_train >= 5]\n",
    "y_train_gte5 = y_train[y_train >= 5] - 5  # make classes start at 0 for ##indexing\n",
    "X_test_gte5  = X_test[y_test >= 5]         # np_utils.to_categorical\n",
    "y_test_gte5  = y_test[y_test >= 5] - 5"
   ]
  },
  {
   "cell_type": "code",
   "execution_count": 33,
   "metadata": {
    "collapsed": true
   },
   "outputs": [],
   "source": [
    "nex = 64\n",
    "X_train_5 = X_train[y_train == 5]\n",
    "X_train_5 = X_train_5[:nex]\n",
    "X_train_6 = X_train[y_train == 6]\n",
    "X_train_6 = X_train_6[:nex]\n",
    "X_train_7 = X_train[y_train == 7]\n",
    "X_train_7 = X_train_7[:nex]\n",
    "X_train_8 = X_train[y_train == 8]\n",
    "X_train_8 = X_train_8[:nex]\n",
    "X_train_9 = X_train[y_train == 9]\n",
    "X_train_9 = X_train_9[:nex]\n",
    "X_train_gte5_n50 = np.concatenate((X_train_5, X_train_6, X_train_7, X_train_8, X_train_9))"
   ]
  },
  {
   "cell_type": "code",
   "execution_count": 34,
   "metadata": {
    "collapsed": true
   },
   "outputs": [],
   "source": [
    "ind = np.arange(0, X_train_gte5_n50.shape[0])\n",
    "np.random.shuffle(ind)\n",
    "X_train_gte5_n50 = X_train_gte5_n50[ind]\n",
    "y_train_gte5_n50 = np.tile([0, 1, 2, 3, 4], (nex, 1))\n",
    "y_train_gte5_n50 = y_train_gte5_n50.flatten('F')\n",
    "y_train_gte5_n50 = y_train_gte5_n50[ind]"
   ]
  },
  {
   "cell_type": "code",
   "execution_count": 35,
   "metadata": {},
   "outputs": [
    {
     "name": "stderr",
     "output_type": "stream",
     "text": [
      "C:\\Users\\gebabe\\AppData\\Local\\Continuum\\Anaconda3\\lib\\site-packages\\ipykernel_launcher.py:4: UserWarning: Update your `Conv2D` call to the Keras 2 API: `Conv2D(32, (3, 3), input_shape=(28, 28, 1..., padding=\"valid\")`\n",
      "  after removing the cwd from sys.path.\n",
      "C:\\Users\\gebabe\\AppData\\Local\\Continuum\\Anaconda3\\lib\\site-packages\\ipykernel_launcher.py:6: UserWarning: Update your `Conv2D` call to the Keras 2 API: `Conv2D(32, (3, 3))`\n",
      "  \n"
     ]
    }
   ],
   "source": [
    "feature_layers = [\n",
    "    Convolution2D(nb_filters, kernel_size, kernel_size,\n",
    "                  border_mode='valid',\n",
    "                  input_shape=input_shape),\n",
    "    Activation('relu'),\n",
    "    Convolution2D(nb_filters, kernel_size, kernel_size),\n",
    "    Activation('relu'),\n",
    "    MaxPooling2D(pool_size=(pool_size, pool_size)),\n",
    "    Dropout(0.25),\n",
    "    Flatten(),\n",
    "]\n",
    "classification_layers = [\n",
    "    Dense(128),\n",
    "    Activation('relu'),\n",
    "    Dropout(0.5),\n",
    "    Dense(nb_classes),\n",
    "    Activation('softmax')\n",
    "]"
   ]
  },
  {
   "cell_type": "code",
   "execution_count": 36,
   "metadata": {},
   "outputs": [
    {
     "data": {
      "text/plain": [
       "<keras.layers.core.Activation at 0x1bbebe5ebe0>"
      ]
     },
     "execution_count": 36,
     "metadata": {},
     "output_type": "execute_result"
    }
   ],
   "source": [
    "feature_layers[1]"
   ]
  },
  {
   "cell_type": "code",
   "execution_count": 37,
   "metadata": {},
   "outputs": [
    {
     "name": "stderr",
     "output_type": "stream",
     "text": [
      "C:\\Users\\gebabe\\AppData\\Local\\Continuum\\Anaconda3\\lib\\site-packages\\ipykernel_launcher.py:9: UserWarning: Update your `Dense` call to the Keras 2 API: `Dense(activation=\"relu\", units=128)`\n",
      "  if __name__ == '__main__':\n",
      "C:\\Users\\gebabe\\AppData\\Local\\Continuum\\Anaconda3\\lib\\site-packages\\ipykernel_launcher.py:11: UserWarning: Update your `Dense` call to the Keras 2 API: `Dense(activation=\"softmax\", units=5)`\n",
      "  # This is added back by InteractiveShellApp.init_path()\n"
     ]
    }
   ],
   "source": [
    "model = Sequential()\n",
    "model.add(Convolution2D (filters = 32,kernel_size =(3,3),input_shape = (28,28,1),activation='relu'))\n",
    "model.add(MaxPooling2D(pool_size = (2,2)))\n",
    "model.add(Convolution2D (filters = 32,kernel_size =(3,3),activation='relu'))\n",
    "model.add(MaxPooling2D(pool_size = (2,2)))\n",
    "model.add(Dropout(0.25))\n",
    "model.add(Flatten())\n",
    "\n",
    "model.add(Dense(output_dim = 128 , activation=\"relu\"))\n",
    "model.add(Dropout(0.5))\n",
    "model.add(Dense(output_dim = nb_classes , activation=\"softmax\"))\n",
    "#model.compile(optimizer='adam',loss='binary_crossentropy',metrics=['accuracy']) # b/c we have a binary output we use loss = 'binary_crossentropy'\n"
   ]
  },
  {
   "cell_type": "code",
   "execution_count": 39,
   "metadata": {
    "scrolled": false
   },
   "outputs": [
    {
     "name": "stdout",
     "output_type": "stream",
     "text": [
      "X_train shape: (30596, 28, 28, 1)\n",
      "30596 train samples\n",
      "5139 test samples\n"
     ]
    },
    {
     "name": "stderr",
     "output_type": "stream",
     "text": [
      "C:\\Users\\gebabe\\AppData\\Local\\Continuum\\Anaconda3\\lib\\site-packages\\keras\\models.py:848: UserWarning: The `nb_epoch` argument in `fit` has been renamed `epochs`.\n",
      "  warnings.warn('The `nb_epoch` argument in `fit` '\n"
     ]
    },
    {
     "name": "stdout",
     "output_type": "stream",
     "text": [
      "Train on 30596 samples, validate on 5139 samples\n",
      "Epoch 1/50\n",
      "30596/30596 [==============================] - 25s - loss: 0.0934 - acc: 0.9725 - val_loss: 0.0285 - val_acc: 0.9897\n",
      "Epoch 2/50\n",
      "30596/30596 [==============================] - 25s - loss: 0.0624 - acc: 0.9815 - val_loss: 0.0207 - val_acc: 0.9936\n",
      "Epoch 3/50\n",
      "30596/30596 [==============================] - 26s - loss: 0.0502 - acc: 0.9849 - val_loss: 0.0176 - val_acc: 0.9942\n",
      "Epoch 4/50\n",
      "30596/30596 [==============================] - 26s - loss: 0.0415 - acc: 0.9877 - val_loss: 0.0160 - val_acc: 0.9934\n",
      "Epoch 5/50\n",
      "30596/30596 [==============================] - 26s - loss: 0.0388 - acc: 0.9877 - val_loss: 0.0121 - val_acc: 0.9957\n",
      "Epoch 6/50\n",
      "30596/30596 [==============================] - 26s - loss: 0.0346 - acc: 0.9894 - val_loss: 0.0109 - val_acc: 0.9965\n",
      "Epoch 7/50\n",
      "30596/30596 [==============================] - 26s - loss: 0.0318 - acc: 0.9900 - val_loss: 0.0108 - val_acc: 0.9961\n",
      "Epoch 8/50\n",
      "30596/30596 [==============================] - 26s - loss: 0.0289 - acc: 0.9915 - val_loss: 0.0100 - val_acc: 0.9971\n",
      "Epoch 9/50\n",
      "30596/30596 [==============================] - 26s - loss: 0.0263 - acc: 0.9921 - val_loss: 0.0092 - val_acc: 0.9971\n",
      "Epoch 10/50\n",
      "30596/30596 [==============================] - 26s - loss: 0.0263 - acc: 0.9922 - val_loss: 0.0079 - val_acc: 0.9979\n",
      "Epoch 11/50\n",
      "30596/30596 [==============================] - 27s - loss: 0.0230 - acc: 0.9929 - val_loss: 0.0085 - val_acc: 0.9975\n",
      "Epoch 12/50\n",
      "30596/30596 [==============================] - 26s - loss: 0.0242 - acc: 0.9925 - val_loss: 0.0069 - val_acc: 0.9979\n",
      "Epoch 13/50\n",
      "30596/30596 [==============================] - 27s - loss: 0.0209 - acc: 0.9933 - val_loss: 0.0066 - val_acc: 0.9977\n",
      "Epoch 14/50\n",
      "30596/30596 [==============================] - 26s - loss: 0.0206 - acc: 0.9936 - val_loss: 0.0065 - val_acc: 0.9984\n",
      "Epoch 15/50\n",
      "30596/30596 [==============================] - 27s - loss: 0.0195 - acc: 0.9941 - val_loss: 0.0063 - val_acc: 0.9979\n",
      "Epoch 16/50\n",
      "30596/30596 [==============================] - 27s - loss: 0.0195 - acc: 0.9942 - val_loss: 0.0062 - val_acc: 0.9981\n",
      "Epoch 17/50\n",
      "30596/30596 [==============================] - 27s - loss: 0.0188 - acc: 0.9941 - val_loss: 0.0063 - val_acc: 0.9984\n",
      "Epoch 18/50\n",
      "30596/30596 [==============================] - 27s - loss: 0.0188 - acc: 0.9943 - val_loss: 0.0071 - val_acc: 0.9979\n",
      "Epoch 19/50\n",
      "30596/30596 [==============================] - 27s - loss: 0.0181 - acc: 0.9942 - val_loss: 0.0062 - val_acc: 0.9979\n",
      "Epoch 20/50\n",
      "30596/30596 [==============================] - 27s - loss: 0.0160 - acc: 0.9950 - val_loss: 0.0054 - val_acc: 0.9984\n",
      "Epoch 21/50\n",
      "30596/30596 [==============================] - 27s - loss: 0.0169 - acc: 0.9950 - val_loss: 0.0056 - val_acc: 0.9984\n",
      "Epoch 22/50\n",
      "30596/30596 [==============================] - 27s - loss: 0.0165 - acc: 0.9948 - val_loss: 0.0054 - val_acc: 0.9984\n",
      "Epoch 23/50\n",
      "30596/30596 [==============================] - 27s - loss: 0.0161 - acc: 0.9948 - val_loss: 0.0054 - val_acc: 0.9979\n",
      "Epoch 24/50\n",
      "30596/30596 [==============================] - 27s - loss: 0.0142 - acc: 0.9957 - val_loss: 0.0049 - val_acc: 0.9984\n",
      "Epoch 25/50\n",
      "30596/30596 [==============================] - 27s - loss: 0.0133 - acc: 0.9958 - val_loss: 0.0057 - val_acc: 0.9979\n",
      "Epoch 26/50\n",
      "30596/30596 [==============================] - 27s - loss: 0.0137 - acc: 0.9961 - val_loss: 0.0051 - val_acc: 0.9981\n",
      "Epoch 27/50\n",
      "30596/30596 [==============================] - 27s - loss: 0.0140 - acc: 0.9959 - val_loss: 0.0051 - val_acc: 0.9981\n",
      "Epoch 28/50\n",
      "30596/30596 [==============================] - 27s - loss: 0.0130 - acc: 0.9962 - val_loss: 0.0048 - val_acc: 0.9981\n",
      "Epoch 29/50\n",
      "30596/30596 [==============================] - 27s - loss: 0.0127 - acc: 0.9965 - val_loss: 0.0048 - val_acc: 0.9986\n",
      "Epoch 30/50\n",
      "30596/30596 [==============================] - 27s - loss: 0.0121 - acc: 0.9959 - val_loss: 0.0055 - val_acc: 0.9981\n",
      "Epoch 31/50\n",
      "30596/30596 [==============================] - 27s - loss: 0.0126 - acc: 0.9961 - val_loss: 0.0049 - val_acc: 0.9986\n",
      "Epoch 32/50\n",
      "30596/30596 [==============================] - 27s - loss: 0.0129 - acc: 0.9961 - val_loss: 0.0046 - val_acc: 0.9982\n",
      "Epoch 33/50\n",
      "30596/30596 [==============================] - 27s - loss: 0.0120 - acc: 0.9962 - val_loss: 0.0049 - val_acc: 0.9981\n",
      "Epoch 34/50\n",
      "30596/30596 [==============================] - 34s - loss: 0.0118 - acc: 0.9967 - val_loss: 0.0043 - val_acc: 0.9981\n",
      "Epoch 35/50\n",
      "30596/30596 [==============================] - 36s - loss: 0.0117 - acc: 0.9964 - val_loss: 0.0045 - val_acc: 0.9982\n",
      "Epoch 36/50\n",
      "30596/30596 [==============================] - 36s - loss: 0.0110 - acc: 0.9966 - val_loss: 0.0049 - val_acc: 0.9979\n",
      "Epoch 37/50\n",
      "30596/30596 [==============================] - 36s - loss: 0.0100 - acc: 0.9966 - val_loss: 0.0047 - val_acc: 0.9979\n",
      "Epoch 38/50\n",
      "30596/30596 [==============================] - 36s - loss: 0.0112 - acc: 0.9966 - val_loss: 0.0047 - val_acc: 0.9981\n",
      "Epoch 39/50\n",
      "30596/30596 [==============================] - 36s - loss: 0.0095 - acc: 0.9966 - val_loss: 0.0041 - val_acc: 0.9981\n",
      "Epoch 40/50\n",
      "30596/30596 [==============================] - 36s - loss: 0.0093 - acc: 0.9973 - val_loss: 0.0049 - val_acc: 0.9981\n",
      "Epoch 41/50\n",
      "30596/30596 [==============================] - 36s - loss: 0.0091 - acc: 0.9971 - val_loss: 0.0045 - val_acc: 0.9984\n",
      "Epoch 42/50\n",
      "30596/30596 [==============================] - 36s - loss: 0.0102 - acc: 0.9967 - val_loss: 0.0044 - val_acc: 0.9981\n",
      "Epoch 43/50\n",
      "30596/30596 [==============================] - 36s - loss: 0.0103 - acc: 0.9969 - val_loss: 0.0043 - val_acc: 0.9984\n",
      "Epoch 44/50\n",
      "30596/30596 [==============================] - 34s - loss: 0.0103 - acc: 0.9967 - val_loss: 0.0048 - val_acc: 0.9982\n",
      "Epoch 45/50\n",
      "30596/30596 [==============================] - 31s - loss: 0.0091 - acc: 0.9973 - val_loss: 0.0042 - val_acc: 0.9984\n",
      "Epoch 46/50\n",
      "30596/30596 [==============================] - 30s - loss: 0.0103 - acc: 0.9969 - val_loss: 0.0039 - val_acc: 0.9982\n",
      "Epoch 47/50\n",
      "30596/30596 [==============================] - 32s - loss: 0.0101 - acc: 0.9967 - val_loss: 0.0047 - val_acc: 0.9988\n",
      "Epoch 48/50\n",
      "30596/30596 [==============================] - 31s - loss: 0.0095 - acc: 0.9971 - val_loss: 0.0043 - val_acc: 0.9986\n",
      "Epoch 49/50\n",
      "30596/30596 [==============================] - 27s - loss: 0.0087 - acc: 0.9974 - val_loss: 0.0039 - val_acc: 0.9981\n",
      "Epoch 50/50\n",
      "30596/30596 [==============================] - 28s - loss: 0.0077 - acc: 0.9975 - val_loss: 0.0035 - val_acc: 0.9981\n",
      "Training time: 0:24:37.867299\n",
      "Test score: 0.00352932885988\n",
      "Test accuracy: 0.998054096128\n"
     ]
    }
   ],
   "source": [
    "train_model(model, (X_train_lt5, y_train_lt5), (X_test_lt5, y_test_lt5), nb_classes, nb_epoch=nb_epoch)"
   ]
  },
  {
   "cell_type": "code",
   "execution_count": 40,
   "metadata": {
    "collapsed": true
   },
   "outputs": [],
   "source": [
    "import json\n",
    "d = hist.history\n",
    "json.dump(d, open(\"text_0_4_B32.txt\",'w'))"
   ]
  },
  {
   "cell_type": "code",
   "execution_count": 41,
   "metadata": {
    "collapsed": true
   },
   "outputs": [],
   "source": [
    "filename = \"weights_training_0_4_B32.hdf5\"\n",
    "model.save_weights(filename,overwrite=True)"
   ]
  },
  {
   "cell_type": "markdown",
   "metadata": {},
   "source": [
    "## Now after this cell we use the transfer Learning. We have trained or model on the digits 0-4 & saved the optimized weights.\n",
    "- Now we will use these saved weights "
   ]
  },
  {
   "cell_type": "markdown",
   "metadata": {},
   "source": [
    "<h1> 1. Using Saved weights"
   ]
  },
  {
   "cell_type": "code",
   "execution_count": 42,
   "metadata": {
    "scrolled": false
   },
   "outputs": [
    {
     "name": "stdout",
     "output_type": "stream",
     "text": [
      "X_train shape: (320, 28, 28, 1)\n",
      "320 train samples\n",
      "4861 test samples\n"
     ]
    },
    {
     "name": "stderr",
     "output_type": "stream",
     "text": [
      "C:\\Users\\gebabe\\AppData\\Local\\Continuum\\Anaconda3\\lib\\site-packages\\keras\\models.py:848: UserWarning: The `nb_epoch` argument in `fit` has been renamed `epochs`.\n",
      "  warnings.warn('The `nb_epoch` argument in `fit` '\n"
     ]
    },
    {
     "name": "stdout",
     "output_type": "stream",
     "text": [
      "Train on 320 samples, validate on 4861 samples\n",
      "Epoch 1/50\n",
      "320/320 [==============================] - 1s - loss: 4.6736 - acc: 0.3469 - val_loss: 3.2076 - val_acc: 0.3970\n",
      "Epoch 2/50\n",
      "320/320 [==============================] - 1s - loss: 2.4059 - acc: 0.4156 - val_loss: 1.8693 - val_acc: 0.4791\n",
      "Epoch 3/50\n",
      "320/320 [==============================] - 1s - loss: 1.7335 - acc: 0.4781 - val_loss: 1.3329 - val_acc: 0.5573\n",
      "Epoch 4/50\n",
      "320/320 [==============================] - 1s - loss: 1.4225 - acc: 0.5625 - val_loss: 1.1073 - val_acc: 0.6093\n",
      "Epoch 5/50\n",
      "320/320 [==============================] - 1s - loss: 1.1458 - acc: 0.6063 - val_loss: 0.9671 - val_acc: 0.6513\n",
      "Epoch 6/50\n",
      "320/320 [==============================] - 1s - loss: 1.0197 - acc: 0.6688 - val_loss: 0.8691 - val_acc: 0.6875\n",
      "Epoch 7/50\n",
      "320/320 [==============================] - 1s - loss: 0.9429 - acc: 0.6688 - val_loss: 0.7742 - val_acc: 0.7270\n",
      "Epoch 8/50\n",
      "320/320 [==============================] - 1s - loss: 0.8616 - acc: 0.7125 - val_loss: 0.7370 - val_acc: 0.7463\n",
      "Epoch 9/50\n",
      "320/320 [==============================] - 1s - loss: 0.7908 - acc: 0.7375 - val_loss: 0.6751 - val_acc: 0.7733\n",
      "Epoch 10/50\n",
      "320/320 [==============================] - 1s - loss: 0.7310 - acc: 0.7750 - val_loss: 0.6227 - val_acc: 0.7877\n",
      "Epoch 11/50\n",
      "320/320 [==============================] - 1s - loss: 0.6673 - acc: 0.7812 - val_loss: 0.5806 - val_acc: 0.8037\n",
      "Epoch 12/50\n",
      "320/320 [==============================] - 1s - loss: 0.6292 - acc: 0.7781 - val_loss: 0.5455 - val_acc: 0.8167\n",
      "Epoch 13/50\n",
      "320/320 [==============================] - 1s - loss: 0.6106 - acc: 0.7937 - val_loss: 0.5116 - val_acc: 0.8309\n",
      "Epoch 14/50\n",
      "320/320 [==============================] - 1s - loss: 0.5849 - acc: 0.7875 - val_loss: 0.4830 - val_acc: 0.8385\n",
      "Epoch 15/50\n",
      "320/320 [==============================] - 1s - loss: 0.5306 - acc: 0.8375 - val_loss: 0.4608 - val_acc: 0.85040.839\n",
      "Epoch 16/50\n",
      "320/320 [==============================] - 1s - loss: 0.4898 - acc: 0.8406 - val_loss: 0.4414 - val_acc: 0.8511\n",
      "Epoch 17/50\n",
      "320/320 [==============================] - 1s - loss: 0.5067 - acc: 0.8187 - val_loss: 0.4200 - val_acc: 0.8616\n",
      "Epoch 18/50\n",
      "320/320 [==============================] - 1s - loss: 0.4797 - acc: 0.8500 - val_loss: 0.4034 - val_acc: 0.8694\n",
      "Epoch 19/50\n",
      "320/320 [==============================] - 1s - loss: 0.4253 - acc: 0.8406 - val_loss: 0.3937 - val_acc: 0.8745\n",
      "Epoch 20/50\n",
      "320/320 [==============================] - 1s - loss: 0.4349 - acc: 0.8562 - val_loss: 0.3780 - val_acc: 0.8797\n",
      "Epoch 21/50\n",
      "320/320 [==============================] - 1s - loss: 0.4416 - acc: 0.8469 - val_loss: 0.3799 - val_acc: 0.8788\n",
      "Epoch 22/50\n",
      "320/320 [==============================] - 1s - loss: 0.3749 - acc: 0.8812 - val_loss: 0.3610 - val_acc: 0.8858\n",
      "Epoch 23/50\n",
      "320/320 [==============================] - 1s - loss: 0.3567 - acc: 0.8844 - val_loss: 0.3373 - val_acc: 0.8932\n",
      "Epoch 24/50\n",
      "320/320 [==============================] - 1s - loss: 0.3496 - acc: 0.8812 - val_loss: 0.3317 - val_acc: 0.8943\n",
      "Epoch 25/50\n",
      "320/320 [==============================] - 1s - loss: 0.2806 - acc: 0.9250 - val_loss: 0.3240 - val_acc: 0.8955\n",
      "Epoch 26/50\n",
      "320/320 [==============================] - 1s - loss: 0.2627 - acc: 0.9281 - val_loss: 0.3108 - val_acc: 0.8996\n",
      "Epoch 27/50\n",
      "320/320 [==============================] - 1s - loss: 0.2941 - acc: 0.8875 - val_loss: 0.3276 - val_acc: 0.8951\n",
      "Epoch 28/50\n",
      "320/320 [==============================] - 1s - loss: 0.2583 - acc: 0.9125 - val_loss: 0.3015 - val_acc: 0.9027\n",
      "Epoch 29/50\n",
      "320/320 [==============================] - 1s - loss: 0.2779 - acc: 0.9313 - val_loss: 0.2989 - val_acc: 0.9015\n",
      "Epoch 30/50\n",
      "320/320 [==============================] - 1s - loss: 0.2891 - acc: 0.9156 - val_loss: 0.2875 - val_acc: 0.9048\n",
      "Epoch 31/50\n",
      "320/320 [==============================] - 1s - loss: 0.2689 - acc: 0.9156 - val_loss: 0.2840 - val_acc: 0.9048\n",
      "Epoch 32/50\n",
      "320/320 [==============================] - 1s - loss: 0.2693 - acc: 0.9125 - val_loss: 0.2749 - val_acc: 0.9087\n",
      "Epoch 33/50\n",
      "320/320 [==============================] - 1s - loss: 0.2882 - acc: 0.9000 - val_loss: 0.2766 - val_acc: 0.9068\n",
      "Epoch 34/50\n",
      "320/320 [==============================] - 1s - loss: 0.2499 - acc: 0.9156 - val_loss: 0.2745 - val_acc: 0.9080\n",
      "Epoch 35/50\n",
      "320/320 [==============================] - 1s - loss: 0.2307 - acc: 0.9094 - val_loss: 0.2722 - val_acc: 0.9087\n",
      "Epoch 36/50\n",
      "320/320 [==============================] - 1s - loss: 0.2680 - acc: 0.9062 - val_loss: 0.2604 - val_acc: 0.9120\n",
      "Epoch 37/50\n",
      "320/320 [==============================] - 1s - loss: 0.2046 - acc: 0.9437 - val_loss: 0.2554 - val_acc: 0.9163\n",
      "Epoch 38/50\n",
      "320/320 [==============================] - 1s - loss: 0.1916 - acc: 0.9469 - val_loss: 0.2581 - val_acc: 0.9136\n",
      "Epoch 39/50\n",
      "320/320 [==============================] - 1s - loss: 0.1722 - acc: 0.9437 - val_loss: 0.2494 - val_acc: 0.9165\n",
      "Epoch 40/50\n",
      "320/320 [==============================] - 1s - loss: 0.2158 - acc: 0.9344 - val_loss: 0.2455 - val_acc: 0.9169\n",
      "Epoch 41/50\n",
      "320/320 [==============================] - 1s - loss: 0.1846 - acc: 0.9563 - val_loss: 0.2420 - val_acc: 0.9210\n",
      "Epoch 42/50\n",
      "320/320 [==============================] - 1s - loss: 0.2153 - acc: 0.9375 - val_loss: 0.2430 - val_acc: 0.9194\n",
      "Epoch 43/50\n",
      "320/320 [==============================] - 1s - loss: 0.1729 - acc: 0.9594 - val_loss: 0.2431 - val_acc: 0.9187\n",
      "Epoch 44/50\n",
      "320/320 [==============================] - 1s - loss: 0.1665 - acc: 0.9531 - val_loss: 0.2407 - val_acc: 0.9198\n",
      "Epoch 45/50\n",
      "320/320 [==============================] - 1s - loss: 0.1772 - acc: 0.9625 - val_loss: 0.2438 - val_acc: 0.9200\n",
      "Epoch 46/50\n",
      "320/320 [==============================] - 1s - loss: 0.1483 - acc: 0.9656 - val_loss: 0.2318 - val_acc: 0.9210\n",
      "Epoch 47/50\n",
      "320/320 [==============================] - 1s - loss: 0.1512 - acc: 0.9594 - val_loss: 0.2270 - val_acc: 0.9226\n",
      "Epoch 48/50\n",
      "320/320 [==============================] - 1s - loss: 0.1493 - acc: 0.9625 - val_loss: 0.2220 - val_acc: 0.9239\n",
      "Epoch 49/50\n",
      "320/320 [==============================] - 1s - loss: 0.1476 - acc: 0.9594 - val_loss: 0.2186 - val_acc: 0.9266\n",
      "Epoch 50/50\n",
      "320/320 [==============================] - 1s - loss: 0.1192 - acc: 0.9625 - val_loss: 0.2170 - val_acc: 0.9282\n",
      "Training time: 0:01:12.990037\n",
      "Test score: 0.216979378321\n",
      "Test accuracy: 0.928204073126\n"
     ]
    }
   ],
   "source": [
    "fname = \"weights_training_0_4_B32.hdf5\"\n",
    "model.load_weights(fname)\n",
    "\n",
    "train_model(model,(X_train_gte5_n50, y_train_gte5_n50),(X_test_gte5, y_test_gte5), nb_classes, nb_epoch=nb_epoch)\n"
   ]
  },
  {
   "cell_type": "code",
   "execution_count": 43,
   "metadata": {
    "collapsed": true
   },
   "outputs": [],
   "source": [
    "import json\n",
    "d = hist.history\n",
    "json.dump(d, open(\"text_5_9_A32.txt\",'w'))"
   ]
  },
  {
   "cell_type": "code",
   "execution_count": 44,
   "metadata": {
    "scrolled": false
   },
   "outputs": [
    {
     "name": "stdout",
     "output_type": "stream",
     "text": [
      "True\n",
      "True\n",
      "True\n",
      "True\n",
      "True\n",
      "True\n",
      "True\n",
      "X_train shape: (320, 28, 28, 1)\n",
      "320 train samples\n",
      "4861 test samples\n"
     ]
    },
    {
     "name": "stderr",
     "output_type": "stream",
     "text": [
      "C:\\Users\\gebabe\\AppData\\Local\\Continuum\\Anaconda3\\lib\\site-packages\\keras\\models.py:848: UserWarning: The `nb_epoch` argument in `fit` has been renamed `epochs`.\n",
      "  warnings.warn('The `nb_epoch` argument in `fit` '\n"
     ]
    },
    {
     "name": "stdout",
     "output_type": "stream",
     "text": [
      "Train on 320 samples, validate on 4861 samples\n",
      "Epoch 1/50\n",
      "320/320 [==============================] - 1s - loss: 0.1537 - acc: 0.9531 - val_loss: 0.2116 - val_acc: 0.9301\n",
      "Epoch 2/50\n",
      "320/320 [==============================] - 1s - loss: 0.1460 - acc: 0.9437 - val_loss: 0.2335 - val_acc: 0.9218\n",
      "Epoch 3/50\n",
      "320/320 [==============================] - 1s - loss: 0.1547 - acc: 0.9563 - val_loss: 0.2259 - val_acc: 0.9272\n",
      "Epoch 4/50\n",
      "320/320 [==============================] - 1s - loss: 0.0833 - acc: 0.9781 - val_loss: 0.2144 - val_acc: 0.9303\n",
      "Epoch 5/50\n",
      "320/320 [==============================] - 1s - loss: 0.1260 - acc: 0.9563 - val_loss: 0.2109 - val_acc: 0.9317\n",
      "Epoch 6/50\n",
      "320/320 [==============================] - 1s - loss: 0.1268 - acc: 0.9437 - val_loss: 0.2036 - val_acc: 0.9315\n",
      "Epoch 7/50\n",
      "320/320 [==============================] - 1s - loss: 0.1103 - acc: 0.9563 - val_loss: 0.2058 - val_acc: 0.9331\n",
      "Epoch 8/50\n",
      "320/320 [==============================] - 1s - loss: 0.1049 - acc: 0.9750 - val_loss: 0.2065 - val_acc: 0.9315\n",
      "Epoch 9/50\n",
      "320/320 [==============================] - 1s - loss: 0.0887 - acc: 0.9719 - val_loss: 0.2100 - val_acc: 0.9329\n",
      "Epoch 10/50\n",
      "320/320 [==============================] - 1s - loss: 0.0861 - acc: 0.9719 - val_loss: 0.2094 - val_acc: 0.9327\n",
      "Epoch 11/50\n",
      "320/320 [==============================] - 1s - loss: 0.0891 - acc: 0.9625 - val_loss: 0.1985 - val_acc: 0.9344\n",
      "Epoch 12/50\n",
      "320/320 [==============================] - 1s - loss: 0.0712 - acc: 0.9781 - val_loss: 0.2094 - val_acc: 0.9325\n",
      "Epoch 13/50\n",
      "320/320 [==============================] - 1s - loss: 0.0818 - acc: 0.9750 - val_loss: 0.1993 - val_acc: 0.9368\n",
      "Epoch 14/50\n",
      "320/320 [==============================] - 1s - loss: 0.0839 - acc: 0.9719 - val_loss: 0.1981 - val_acc: 0.9379\n",
      "Epoch 15/50\n",
      "320/320 [==============================] - 1s - loss: 0.0730 - acc: 0.9812 - val_loss: 0.2052 - val_acc: 0.9364\n",
      "Epoch 16/50\n",
      "320/320 [==============================] - 1s - loss: 0.0876 - acc: 0.9750 - val_loss: 0.1861 - val_acc: 0.9391\n",
      "Epoch 17/50\n",
      "320/320 [==============================] - 1s - loss: 0.0919 - acc: 0.9750 - val_loss: 0.1939 - val_acc: 0.9368\n",
      "Epoch 18/50\n",
      "320/320 [==============================] - 1s - loss: 0.0660 - acc: 0.9750 - val_loss: 0.1907 - val_acc: 0.9360\n",
      "Epoch 19/50\n",
      "320/320 [==============================] - 1s - loss: 0.0735 - acc: 0.9750 - val_loss: 0.1967 - val_acc: 0.9393\n",
      "Epoch 20/50\n",
      "320/320 [==============================] - 1s - loss: 0.1100 - acc: 0.9688 - val_loss: 0.1962 - val_acc: 0.9385\n",
      "Epoch 21/50\n",
      "320/320 [==============================] - 1s - loss: 0.0698 - acc: 0.9875 - val_loss: 0.1992 - val_acc: 0.9375\n",
      "Epoch 22/50\n",
      "320/320 [==============================] - 1s - loss: 0.0490 - acc: 0.9938 - val_loss: 0.1905 - val_acc: 0.9403\n",
      "Epoch 23/50\n",
      "320/320 [==============================] - 1s - loss: 0.0442 - acc: 0.9844 - val_loss: 0.1979 - val_acc: 0.9373\n",
      "Epoch 24/50\n",
      "320/320 [==============================] - 1s - loss: 0.0556 - acc: 0.9875 - val_loss: 0.1941 - val_acc: 0.9389\n",
      "Epoch 25/50\n",
      "320/320 [==============================] - 1s - loss: 0.0462 - acc: 0.9906 - val_loss: 0.2069 - val_acc: 0.9356\n",
      "Epoch 26/50\n",
      "320/320 [==============================] - 1s - loss: 0.0655 - acc: 0.9781 - val_loss: 0.1960 - val_acc: 0.9387\n",
      "Epoch 27/50\n",
      "320/320 [==============================] - 1s - loss: 0.0704 - acc: 0.9844 - val_loss: 0.1902 - val_acc: 0.9383\n",
      "Epoch 28/50\n",
      "320/320 [==============================] - 1s - loss: 0.0365 - acc: 0.9938 - val_loss: 0.1904 - val_acc: 0.9416\n",
      "Epoch 29/50\n",
      "320/320 [==============================] - 1s - loss: 0.0527 - acc: 0.9844 - val_loss: 0.1997 - val_acc: 0.9399\n",
      "Epoch 30/50\n",
      "320/320 [==============================] - 1s - loss: 0.0613 - acc: 0.9812 - val_loss: 0.1784 - val_acc: 0.9447\n",
      "Epoch 31/50\n",
      "320/320 [==============================] - 1s - loss: 0.0638 - acc: 0.9750 - val_loss: 0.1889 - val_acc: 0.9416\n",
      "Epoch 32/50\n",
      "320/320 [==============================] - 1s - loss: 0.0463 - acc: 0.9844 - val_loss: 0.1944 - val_acc: 0.9416\n",
      "Epoch 33/50\n",
      "320/320 [==============================] - 1s - loss: 0.0482 - acc: 0.9844 - val_loss: 0.1837 - val_acc: 0.9428\n",
      "Epoch 34/50\n",
      "320/320 [==============================] - 1s - loss: 0.0375 - acc: 0.9906 - val_loss: 0.1868 - val_acc: 0.9420\n",
      "Epoch 35/50\n",
      "320/320 [==============================] - 1s - loss: 0.0421 - acc: 0.9875 - val_loss: 0.1788 - val_acc: 0.9443\n",
      "Epoch 36/50\n",
      "320/320 [==============================] - 1s - loss: 0.0443 - acc: 0.9844 - val_loss: 0.1786 - val_acc: 0.9434\n",
      "Epoch 37/50\n",
      "320/320 [==============================] - 1s - loss: 0.0426 - acc: 0.9875 - val_loss: 0.1815 - val_acc: 0.9414\n",
      "Epoch 38/50\n",
      "320/320 [==============================] - 1s - loss: 0.0276 - acc: 0.9969 - val_loss: 0.1862 - val_acc: 0.9424\n",
      "Epoch 39/50\n",
      "320/320 [==============================] - 1s - loss: 0.0496 - acc: 0.9812 - val_loss: 0.1798 - val_acc: 0.9432\n",
      "Epoch 40/50\n",
      "320/320 [==============================] - 1s - loss: 0.0313 - acc: 0.9906 - val_loss: 0.1945 - val_acc: 0.9436\n",
      "Epoch 41/50\n",
      "320/320 [==============================] - 1s - loss: 0.0500 - acc: 0.9812 - val_loss: 0.1908 - val_acc: 0.9418\n",
      "Epoch 42/50\n",
      "320/320 [==============================] - 1s - loss: 0.0505 - acc: 0.9844 - val_loss: 0.1912 - val_acc: 0.9414\n",
      "Epoch 43/50\n",
      "320/320 [==============================] - 1s - loss: 0.0407 - acc: 0.9875 - val_loss: 0.1923 - val_acc: 0.9418\n",
      "Epoch 44/50\n",
      "320/320 [==============================] - 1s - loss: 0.0260 - acc: 0.9938 - val_loss: 0.1823 - val_acc: 0.9432\n",
      "Epoch 45/50\n",
      "320/320 [==============================] - 1s - loss: 0.0281 - acc: 0.9969 - val_loss: 0.1799 - val_acc: 0.9459\n",
      "Epoch 46/50\n",
      "320/320 [==============================] - 1s - loss: 0.0444 - acc: 0.9781 - val_loss: 0.1876 - val_acc: 0.9443\n",
      "Epoch 47/50\n",
      "320/320 [==============================] - 1s - loss: 0.0483 - acc: 0.9906 - val_loss: 0.1942 - val_acc: 0.9418\n",
      "Epoch 48/50\n",
      "320/320 [==============================] - 1s - loss: 0.0172 - acc: 0.9969 - val_loss: 0.1961 - val_acc: 0.9422\n",
      "Epoch 49/50\n",
      "320/320 [==============================] - 1s - loss: 0.0262 - acc: 0.9938 - val_loss: 0.1968 - val_acc: 0.9422\n",
      "Epoch 50/50\n",
      "320/320 [==============================] - 1s - loss: 0.0228 - acc: 0.9969 - val_loss: 0.1970 - val_acc: 0.9418\n",
      "Training time: 0:01:13.891448\n",
      "Test score: 0.197009601588\n",
      "Test accuracy: 0.941781526435\n"
     ]
    }
   ],
   "source": [
    "for k in feature_layers:\n",
    "    print(k.trainable)\n",
    "    k.trainable = False\n",
    "\n",
    "# train_model(model, train, test, nb_classes, nb_epoch=nb_epoch):\n",
    "train_model(model,(X_train_gte5_n50, y_train_gte5_n50),(X_test_gte5, y_test_gte5), nb_classes, nb_epoch=nb_epoch)\n"
   ]
  },
  {
   "cell_type": "code",
   "execution_count": 45,
   "metadata": {
    "collapsed": true
   },
   "outputs": [],
   "source": [
    "import json\n",
    "d = hist.history\n",
    "json.dump(d, open(\"text_5_9_A32_Freezing_layers.txt\",'w'))"
   ]
  },
  {
   "cell_type": "code",
   "execution_count": 50,
   "metadata": {},
   "outputs": [],
   "source": [
    "import json\n",
    "with open('text_0_4_B32.txt') as json_data:\n",
    "    data_lte_4 = json.load(json_data)\n",
    "with open('text_5_9_A32.txt') as json_data:\n",
    "    data_gte_5_saved_weights = json.load(json_data)\n",
    "\n",
    "with open('text_5_9_A32_Freezing_layers.txt') as json_data:\n",
    "    data_gte_5_Freezed_feature_layers = json.load(json_data)\n",
    "    "
   ]
  },
  {
   "cell_type": "code",
   "execution_count": 52,
   "metadata": {
    "collapsed": true
   },
   "outputs": [],
   "source": [
    "training_accuracy_lth_4    = data_lte_4['acc']\n",
    "validation_accuracy_lth_4  = data_lte_4['val_acc']\n",
    "\n",
    "training_loss_lth_4    = data_lte_4['loss']\n",
    "validation_loss_lth_4  = data_lte_4['val_loss']\n",
    "\n",
    "training_accuracy_gte_5_saved_weights    = data_gte_5_saved_weights['acc']\n",
    "validation_accuracy_gte_5_saved_weights  = data_gte_5_saved_weights['val_acc']\n",
    "\n",
    "training_loss_gte_5_saved_weights    = data_gte_5_saved_weights['loss']\n",
    "validation_loss_gte_5_saved_weights  = data_gte_5_saved_weights['val_loss']\n",
    "\n",
    "training_accuracy_gte_5_Freezed_feature_layers    =  data_gte_5_Freezed_feature_layers ['acc']\n",
    "validation_accuracy_gte_5_Freezed_feature_layers  =  data_gte_5_Freezed_feature_layers ['val_acc']\n",
    "\n",
    "training_loss_gte_5_Freezed_feature_layers    =  data_gte_5_Freezed_feature_layers ['loss']\n",
    "validation_loss_gte_5_Freezed_feature_layers  =  data_gte_5_Freezed_feature_layers ['val_loss']\n",
    "\n"
   ]
  },
  {
   "cell_type": "code",
   "execution_count": 56,
   "metadata": {},
   "outputs": [
    {
     "ename": "AttributeError",
     "evalue": "'list' object has no attribute 'plot'",
     "output_type": "error",
     "traceback": [
      "\u001b[1;31m---------------------------------------------------------------------------\u001b[0m",
      "\u001b[1;31mAttributeError\u001b[0m                            Traceback (most recent call last)",
      "\u001b[1;32m<ipython-input-56-fcdf38ed46ff>\u001b[0m in \u001b[0;36m<module>\u001b[1;34m()\u001b[0m\n\u001b[1;32m----> 1\u001b[1;33m \u001b[0mtraining_accuracy_lth_4\u001b[0m\u001b[1;33m.\u001b[0m\u001b[0mplot\u001b[0m\u001b[1;33m(\u001b[0m\u001b[1;33m)\u001b[0m\u001b[1;33m\u001b[0m\u001b[0m\n\u001b[0m",
      "\u001b[1;31mAttributeError\u001b[0m: 'list' object has no attribute 'plot'"
     ]
    }
   ],
   "source": [
    "training_accuracy_lth_4.plot()"
   ]
  },
  {
   "cell_type": "code",
   "execution_count": 58,
   "metadata": {
    "collapsed": true
   },
   "outputs": [],
   "source": [
    "%matplotlib inline"
   ]
  },
  {
   "cell_type": "code",
   "execution_count": 69,
   "metadata": {},
   "outputs": [
    {
     "data": {
      "text/plain": [
       "<matplotlib.text.Text at 0x1bbe99717f0>"
      ]
     },
     "execution_count": 69,
     "metadata": {},
     "output_type": "execute_result"
    },
    {
     "data": {
      "image/png": "[encoded data removed]",
      "text/plain": [
       "<matplotlib.figure.Figure at 0x1bbe94f2550>"
      ]
     },
     "metadata": {},
     "output_type": "display_data"
    }
   ],
   "source": [
    "fig, axes = plt.subplots(nrows=1, ncols=2,figsize=(20,6))\n",
    "\n",
    "axes[0].plot(training_accuracy_lth_4,'b')\n",
    "axes[0].plot(validation_accuracy_lth_4,'r')\n",
    "axes[0].legend(['training_acc', 'validation_acc'])\n",
    "axes[0].set_xlabel('No of Epoch')\n",
    "axes[0].set_ylabel('Accuracy')\n",
    "axes[0].set_title(\"Accuracy 0-4 digits\")\n",
    "\n",
    "axes[1].plot(training_loss_lth_4,'b')\n",
    "axes[1].plot(validation_loss_lth_4,'r')\n",
    "axes[1].legend(['training_loss', 'validation_loss'])\n",
    "axes[1].set_xlabel('No of Epoch')\n",
    "axes[1].set_ylabel('Loss')\n",
    "axes[1].set_title(\"Loss 0-4 digits\")"
   ]
  },
  {
   "cell_type": "code",
   "execution_count": 70,
   "metadata": {},
   "outputs": [
    {
     "data": {
      "text/plain": [
       "<matplotlib.text.Text at 0x1bbe2586b38>"
      ]
     },
     "execution_count": 70,
     "metadata": {},
     "output_type": "execute_result"
    },
    {
     "data": {
      "image/png": "[encoded data removed]",
      "text/plain": [
       "<matplotlib.figure.Figure at 0x1bbe903b358>"
      ]
     },
     "metadata": {},
     "output_type": "display_data"
    }
   ],
   "source": [
    "fig, axes = plt.subplots(nrows=1, ncols=2,figsize=(20,6))\n",
    "\n",
    "axes[0].plot(training_accuracy_gte_5_saved_weights,'b')\n",
    "axes[0].plot(validation_accuracy_gte_5_saved_weights,'r')\n",
    "axes[0].legend(['training_acc', 'validation_acc'])\n",
    "axes[0].set_xlabel('No of Epoch')\n",
    "axes[0].set_ylabel('Accuracy')\n",
    "axes[0].set_title(\"Accuracy 5-9 digits using saved weight\")\n",
    "\n",
    "axes[1].plot(training_loss_gte_5_saved_weights,'b')\n",
    "axes[1].plot(validation_loss_gte_5_saved_weights,'r')\n",
    "axes[1].legend(['training_loss', 'validation_loss'])\n",
    "axes[1].set_xlabel('No of Epoch')\n",
    "axes[1].set_ylabel('Loss')\n",
    "axes[1].set_title(\"Loss 5-9 digits using saved weight\")\n"
   ]
  },
  {
   "cell_type": "code",
   "execution_count": 71,
   "metadata": {},
   "outputs": [
    {
     "data": {
      "text/plain": [
       "<matplotlib.text.Text at 0x1bbe9983908>"
      ]
     },
     "execution_count": 71,
     "metadata": {},
     "output_type": "execute_result"
    },
    {
     "data": {
      "image/png": "[encoded data removed]",
      "text/plain": [
       "<matplotlib.figure.Figure at 0x1bbe1e337f0>"
      ]
     },
     "metadata": {},
     "output_type": "display_data"
    }
   ],
   "source": [
    "fig, axes = plt.subplots(nrows=1, ncols=2,figsize=(20,6))\n",
    "\n",
    "axes[0].plot(training_accuracy_gte_5_Freezed_feature_layers,'b')\n",
    "axes[0].plot(validation_accuracy_gte_5_Freezed_feature_layers,'r')\n",
    "axes[0].legend(['training_acc', 'validation_acc'])\n",
    "axes[0].set_xlabel('No of Epoch')\n",
    "axes[0].set_ylabel('Accuracy')\n",
    "axes[0].set_title(\"Accuracy 5-9 digits using freezed feature layers\")\n",
    "\n",
    "axes[1].plot(training_loss_gte_5_Freezed_feature_layers,'b')\n",
    "axes[1].plot(validation_loss_gte_5_Freezed_feature_layers,'r')\n",
    "axes[1].legend(['training_loss', 'validation_loss'])\n",
    "axes[1].set_xlabel('No of Epoch')\n",
    "axes[1].set_ylabel('Loss')\n",
    "axes[1].set_title(\" Loss 5-9 digits using freezed feature layers\")\n"
   ]
  },
  {
   "cell_type": "code",
   "execution_count": 73,
   "metadata": {},
   "outputs": [
    {
     "name": "stdout",
     "output_type": "stream",
     "text": [
      "Accuracy on Digits [0-4] 0.9975486991763629\n",
      "Accuracy on Digits [5-9] 0.9625\n",
      "Accuracy on Digits [5-9] 0.996875\n"
     ]
    }
   ],
   "source": [
    "print('Accuracy on Digits [0-4]',training_accuracy_lth_4[-1])\n",
    "print('Accuracy on Digits [5-9]',training_accuracy_gte_5_saved_weights[-1])\n",
    "print('Accuracy on Digits [5-9]',training_accuracy_gte_5_Freezed_feature_layers[-1])"
   ]
  },
  {
   "cell_type": "code",
   "execution_count": 74,
   "metadata": {},
   "outputs": [
    {
     "name": "stdout",
     "output_type": "stream",
     "text": [
      "Accuracy on Digits [0-4] 0.9980540961276513\n",
      "Accuracy on Digits [5-9] 0.9282040731256034\n",
      "Accuracy on Digits [5-9] 0.94178152643489\n"
     ]
    }
   ],
   "source": [
    "print('Accuracy on Digits [0-4]',validation_accuracy_lth_4[-1])\n",
    "print('Accuracy on Digits [5-9]',validation_accuracy_gte_5_saved_weights[-1])\n",
    "print('Accuracy on Digits [5-9]',validation_accuracy_gte_5_Freezed_feature_layers[-1])"
   ]
  },
  {
   "cell_type": "markdown",
   "metadata": {},
   "source": [
    "## conclusion"
   ]
  },
  {
   "cell_type": "markdown",
   "metadata": {},
   "source": [
    "Result : |Training Accuracy | Dev(Validation) Accuracy  |\n",
    "--------------------------------------------------------|\n",
    "    0-4  | 99.75 %            | 99.8  %                 |\n",
    "    5-9$^1$  | 96.25 %            | 92.82 %             |\n",
    "    5-9$^2$  | 99.68 %            | 94.17 %             |\n",
    "    -------------------------------------------------------\n",
    "    **1** : using saved weights from the model classifying digits 0-4  \n",
    "    **2** : freezing the feature layers of the model classifying digits 0-4\n"
   ]
  }
 ],
 "metadata": {
  "kernelspec": {
   "display_name": "Python 3",
   "language": "python",
   "name": "python3"
  },
  "language_info": {
   "codemirror_mode": {
    "name": "ipython",
    "version": 3
   },
   "file_extension": ".py",
   "mimetype": "text/x-python",
   "name": "python",
   "nbconvert_exporter": "python",
   "pygments_lexer": "ipython3",
   "version": "3.6.1"
  },
  "nav_menu": {},
  "toc": {
   "navigate_menu": true,
   "number_sections": true,
   "sideBar": true,
   "threshold": 6,
   "toc_cell": false,
   "toc_section_display": "block",
   "toc_window_display": false
  }
 },
 "nbformat": 4,
 "nbformat_minor": 2
}
